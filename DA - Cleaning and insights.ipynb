{
 "cells": [
  {
   "cell_type": "markdown",
   "id": "d15be11a",
   "metadata": {},
   "source": [
    "## Problem statement\n",
    "\n",
    "We are tasked by Netflix to gain some insights into their Original film data. Netflix wants to know what are the ways to improve IMDB Score and where their focus should be on to create better films. "
   ]
  },
  {
   "cell_type": "code",
   "execution_count": 59,
   "id": "f6e3e48a",
   "metadata": {
    "ExecuteTime": {
     "end_time": "2021-09-08T09:04:52.489961Z",
     "start_time": "2021-09-08T09:04:52.484962Z"
    }
   },
   "outputs": [],
   "source": [
    "import numpy as np\n",
    "import pandas as pd\n",
    "\n",
    "import matplotlib.pyplot as plt\n",
    "import seaborn as sns"
   ]
  },
  {
   "cell_type": "code",
   "execution_count": 2,
   "id": "0d9f3565",
   "metadata": {
    "ExecuteTime": {
     "end_time": "2021-09-08T08:32:38.493157Z",
     "start_time": "2021-09-08T08:32:38.472157Z"
    }
   },
   "outputs": [],
   "source": [
    "df = pd.read_csv(\"Netflix Original Films & IMDB Scores/NetflixOriginals.csv\")"
   ]
  },
  {
   "cell_type": "code",
   "execution_count": 3,
   "id": "5bcd7aed",
   "metadata": {
    "ExecuteTime": {
     "end_time": "2021-09-08T08:32:38.791179Z",
     "start_time": "2021-09-08T08:32:38.768178Z"
    }
   },
   "outputs": [
    {
     "name": "stdout",
     "output_type": "stream",
     "text": [
      "<class 'pandas.core.frame.DataFrame'>\n",
      "RangeIndex: 584 entries, 0 to 583\n",
      "Data columns (total 6 columns):\n",
      " #   Column      Non-Null Count  Dtype  \n",
      "---  ------      --------------  -----  \n",
      " 0   Title       584 non-null    object \n",
      " 1   Genre       584 non-null    object \n",
      " 2   Premiere    584 non-null    object \n",
      " 3   Runtime     584 non-null    int64  \n",
      " 4   IMDB Score  584 non-null    float64\n",
      " 5   Language    584 non-null    object \n",
      "dtypes: float64(1), int64(1), object(4)\n",
      "memory usage: 27.5+ KB\n"
     ]
    }
   ],
   "source": [
    "df.info()"
   ]
  },
  {
   "cell_type": "code",
   "execution_count": 4,
   "id": "07a7f9cd",
   "metadata": {
    "ExecuteTime": {
     "end_time": "2021-09-08T08:32:39.168437Z",
     "start_time": "2021-09-08T08:32:39.133206Z"
    }
   },
   "outputs": [
    {
     "data": {
      "text/html": [
       "<div>\n",
       "<style scoped>\n",
       "    .dataframe tbody tr th:only-of-type {\n",
       "        vertical-align: middle;\n",
       "    }\n",
       "\n",
       "    .dataframe tbody tr th {\n",
       "        vertical-align: top;\n",
       "    }\n",
       "\n",
       "    .dataframe thead th {\n",
       "        text-align: right;\n",
       "    }\n",
       "</style>\n",
       "<table border=\"1\" class=\"dataframe\">\n",
       "  <thead>\n",
       "    <tr style=\"text-align: right;\">\n",
       "      <th></th>\n",
       "      <th>Runtime</th>\n",
       "      <th>IMDB Score</th>\n",
       "    </tr>\n",
       "  </thead>\n",
       "  <tbody>\n",
       "    <tr>\n",
       "      <th>count</th>\n",
       "      <td>584.000000</td>\n",
       "      <td>584.000000</td>\n",
       "    </tr>\n",
       "    <tr>\n",
       "      <th>mean</th>\n",
       "      <td>93.577055</td>\n",
       "      <td>6.271747</td>\n",
       "    </tr>\n",
       "    <tr>\n",
       "      <th>std</th>\n",
       "      <td>27.761683</td>\n",
       "      <td>0.979256</td>\n",
       "    </tr>\n",
       "    <tr>\n",
       "      <th>min</th>\n",
       "      <td>4.000000</td>\n",
       "      <td>2.500000</td>\n",
       "    </tr>\n",
       "    <tr>\n",
       "      <th>25%</th>\n",
       "      <td>86.000000</td>\n",
       "      <td>5.700000</td>\n",
       "    </tr>\n",
       "    <tr>\n",
       "      <th>50%</th>\n",
       "      <td>97.000000</td>\n",
       "      <td>6.350000</td>\n",
       "    </tr>\n",
       "    <tr>\n",
       "      <th>75%</th>\n",
       "      <td>108.000000</td>\n",
       "      <td>7.000000</td>\n",
       "    </tr>\n",
       "    <tr>\n",
       "      <th>max</th>\n",
       "      <td>209.000000</td>\n",
       "      <td>9.000000</td>\n",
       "    </tr>\n",
       "  </tbody>\n",
       "</table>\n",
       "</div>"
      ],
      "text/plain": [
       "          Runtime  IMDB Score\n",
       "count  584.000000  584.000000\n",
       "mean    93.577055    6.271747\n",
       "std     27.761683    0.979256\n",
       "min      4.000000    2.500000\n",
       "25%     86.000000    5.700000\n",
       "50%     97.000000    6.350000\n",
       "75%    108.000000    7.000000\n",
       "max    209.000000    9.000000"
      ]
     },
     "execution_count": 4,
     "metadata": {},
     "output_type": "execute_result"
    }
   ],
   "source": [
    "df.describe()"
   ]
  },
  {
   "cell_type": "code",
   "execution_count": 5,
   "id": "906765ae",
   "metadata": {
    "ExecuteTime": {
     "end_time": "2021-09-08T08:32:39.465229Z",
     "start_time": "2021-09-08T08:32:39.445230Z"
    }
   },
   "outputs": [
    {
     "data": {
      "text/plain": [
       "Title         0\n",
       "Genre         0\n",
       "Premiere      0\n",
       "Runtime       0\n",
       "IMDB Score    0\n",
       "Language      0\n",
       "dtype: int64"
      ]
     },
     "execution_count": 5,
     "metadata": {},
     "output_type": "execute_result"
    }
   ],
   "source": [
    "df.isnull().sum()"
   ]
  },
  {
   "cell_type": "markdown",
   "id": "b0d48cfb",
   "metadata": {},
   "source": [
    "The column Dtypes are right for the categories. There are 4 qualitative columns and 2 quantitative columns. The runtime is in minutes.\n",
    "\n",
    "There appears to be no missing data. There is a show with 4 minute run time when the average run time is 93mins and std of 28mins. It might be an outlier, we should check if it is a legitimate show. "
   ]
  },
  {
   "cell_type": "code",
   "execution_count": 89,
   "id": "2ece4298",
   "metadata": {
    "ExecuteTime": {
     "end_time": "2021-09-08T09:28:31.544175Z",
     "start_time": "2021-09-08T09:28:31.514173Z"
    }
   },
   "outputs": [
    {
     "data": {
      "text/html": [
       "<div>\n",
       "<style scoped>\n",
       "    .dataframe tbody tr th:only-of-type {\n",
       "        vertical-align: middle;\n",
       "    }\n",
       "\n",
       "    .dataframe tbody tr th {\n",
       "        vertical-align: top;\n",
       "    }\n",
       "\n",
       "    .dataframe thead th {\n",
       "        text-align: right;\n",
       "    }\n",
       "</style>\n",
       "<table border=\"1\" class=\"dataframe\">\n",
       "  <thead>\n",
       "    <tr style=\"text-align: right;\">\n",
       "      <th></th>\n",
       "      <th>Title</th>\n",
       "      <th>Genre</th>\n",
       "      <th>Premiere</th>\n",
       "      <th>Runtime</th>\n",
       "      <th>IMDB Score</th>\n",
       "      <th>Language</th>\n",
       "      <th>Month</th>\n",
       "      <th>Year</th>\n",
       "    </tr>\n",
       "  </thead>\n",
       "  <tbody>\n",
       "    <tr>\n",
       "      <th>40</th>\n",
       "      <td>Sol Levante</td>\n",
       "      <td>Anime / Short</td>\n",
       "      <td>2020-04-02</td>\n",
       "      <td>4</td>\n",
       "      <td>4.7</td>\n",
       "      <td>English</td>\n",
       "      <td>4</td>\n",
       "      <td>2020</td>\n",
       "    </tr>\n",
       "    <tr>\n",
       "      <th>417</th>\n",
       "      <td>Cops and Robbers</td>\n",
       "      <td>Animation / Short</td>\n",
       "      <td>2020-12-28</td>\n",
       "      <td>7</td>\n",
       "      <td>6.9</td>\n",
       "      <td>English</td>\n",
       "      <td>12</td>\n",
       "      <td>2020</td>\n",
       "    </tr>\n",
       "    <tr>\n",
       "      <th>325</th>\n",
       "      <td>Canvas</td>\n",
       "      <td>Animation / Short</td>\n",
       "      <td>2020-12-11</td>\n",
       "      <td>9</td>\n",
       "      <td>6.5</td>\n",
       "      <td>English</td>\n",
       "      <td>12</td>\n",
       "      <td>2020</td>\n",
       "    </tr>\n",
       "    <tr>\n",
       "      <th>66</th>\n",
       "      <td>American Factory: A Conversation with the Obamas</td>\n",
       "      <td>Aftershow / Interview</td>\n",
       "      <td>2019-08-21</td>\n",
       "      <td>10</td>\n",
       "      <td>5.2</td>\n",
       "      <td>English</td>\n",
       "      <td>8</td>\n",
       "      <td>2019</td>\n",
       "    </tr>\n",
       "    <tr>\n",
       "      <th>498</th>\n",
       "      <td>Zion</td>\n",
       "      <td>Documentary</td>\n",
       "      <td>2018-08-10</td>\n",
       "      <td>11</td>\n",
       "      <td>7.2</td>\n",
       "      <td>English</td>\n",
       "      <td>8</td>\n",
       "      <td>2018</td>\n",
       "    </tr>\n",
       "    <tr>\n",
       "      <th>...</th>\n",
       "      <td>...</td>\n",
       "      <td>...</td>\n",
       "      <td>...</td>\n",
       "      <td>...</td>\n",
       "      <td>...</td>\n",
       "      <td>...</td>\n",
       "      <td>...</td>\n",
       "      <td>...</td>\n",
       "    </tr>\n",
       "    <tr>\n",
       "      <th>247</th>\n",
       "      <td>Citation</td>\n",
       "      <td>Drama</td>\n",
       "      <td>2020-11-06</td>\n",
       "      <td>151</td>\n",
       "      <td>6.2</td>\n",
       "      <td>English</td>\n",
       "      <td>11</td>\n",
       "      <td>2020</td>\n",
       "    </tr>\n",
       "    <tr>\n",
       "      <th>284</th>\n",
       "      <td>The Forest of Love</td>\n",
       "      <td>Drama</td>\n",
       "      <td>2019-10-11</td>\n",
       "      <td>151</td>\n",
       "      <td>6.3</td>\n",
       "      <td>Japanese</td>\n",
       "      <td>10</td>\n",
       "      <td>2019</td>\n",
       "    </tr>\n",
       "    <tr>\n",
       "      <th>581</th>\n",
       "      <td>Springsteen on Broadway</td>\n",
       "      <td>One-man show</td>\n",
       "      <td>2018-12-16</td>\n",
       "      <td>153</td>\n",
       "      <td>8.5</td>\n",
       "      <td>English</td>\n",
       "      <td>12</td>\n",
       "      <td>2018</td>\n",
       "    </tr>\n",
       "    <tr>\n",
       "      <th>328</th>\n",
       "      <td>Da 5 Bloods</td>\n",
       "      <td>War drama</td>\n",
       "      <td>2020-06-12</td>\n",
       "      <td>155</td>\n",
       "      <td>6.5</td>\n",
       "      <td>English</td>\n",
       "      <td>6</td>\n",
       "      <td>2020</td>\n",
       "    </tr>\n",
       "    <tr>\n",
       "      <th>561</th>\n",
       "      <td>The Irishman</td>\n",
       "      <td>Crime drama</td>\n",
       "      <td>2019-11-27</td>\n",
       "      <td>209</td>\n",
       "      <td>7.8</td>\n",
       "      <td>English</td>\n",
       "      <td>11</td>\n",
       "      <td>2019</td>\n",
       "    </tr>\n",
       "  </tbody>\n",
       "</table>\n",
       "<p>584 rows × 8 columns</p>\n",
       "</div>"
      ],
      "text/plain": [
       "                                                 Title                  Genre  \\\n",
       "40                                         Sol Levante          Anime / Short   \n",
       "417                                   Cops and Robbers      Animation / Short   \n",
       "325                                            Canvas       Animation / Short   \n",
       "66   American Factory: A Conversation with the Obamas   Aftershow / Interview   \n",
       "498                                              Zion             Documentary   \n",
       "..                                                 ...                    ...   \n",
       "247                                           Citation                  Drama   \n",
       "284                                 The Forest of Love                  Drama   \n",
       "581                            Springsteen on Broadway           One-man show   \n",
       "328                                        Da 5 Bloods              War drama   \n",
       "561                                       The Irishman            Crime drama   \n",
       "\n",
       "      Premiere  Runtime  IMDB Score  Language  Month  Year  \n",
       "40  2020-04-02        4         4.7   English      4  2020  \n",
       "417 2020-12-28        7         6.9   English     12  2020  \n",
       "325 2020-12-11        9         6.5   English     12  2020  \n",
       "66  2019-08-21       10         5.2   English      8  2019  \n",
       "498 2018-08-10       11         7.2   English      8  2018  \n",
       "..         ...      ...         ...       ...    ...   ...  \n",
       "247 2020-11-06      151         6.2   English     11  2020  \n",
       "284 2019-10-11      151         6.3  Japanese     10  2019  \n",
       "581 2018-12-16      153         8.5   English     12  2018  \n",
       "328 2020-06-12      155         6.5   English      6  2020  \n",
       "561 2019-11-27      209         7.8   English     11  2019  \n",
       "\n",
       "[584 rows x 8 columns]"
      ]
     },
     "execution_count": 89,
     "metadata": {},
     "output_type": "execute_result"
    }
   ],
   "source": [
    "df.sort_values(by='Runtime')"
   ]
  },
  {
   "cell_type": "markdown",
   "id": "6c9960b5",
   "metadata": {},
   "source": [
    "Seems like there are short films that are legitimate. There is even a genre 'Short' for it. "
   ]
  },
  {
   "cell_type": "code",
   "execution_count": 91,
   "id": "8cb0e294",
   "metadata": {
    "ExecuteTime": {
     "end_time": "2021-09-08T09:42:41.838760Z",
     "start_time": "2021-09-08T09:42:41.825624Z"
    }
   },
   "outputs": [],
   "source": [
    "# new column to classify films with English language or not\n",
    "df['Is_english'] = df['Language'].map(lambda x: 1 if 'English' in x else 0)"
   ]
  },
  {
   "cell_type": "code",
   "execution_count": 9,
   "id": "5c484706",
   "metadata": {
    "ExecuteTime": {
     "end_time": "2021-09-08T08:35:43.597990Z",
     "start_time": "2021-09-08T08:35:43.583990Z"
    }
   },
   "outputs": [],
   "source": [
    "# change Premiere column to date_time format for easier exploration\n",
    "df.Premiere = pd.to_datetime(df.Premiere)"
   ]
  },
  {
   "cell_type": "code",
   "execution_count": 74,
   "id": "595a4890",
   "metadata": {
    "ExecuteTime": {
     "end_time": "2021-09-08T09:19:37.760027Z",
     "start_time": "2021-09-08T09:19:37.741028Z"
    }
   },
   "outputs": [],
   "source": [
    "df['Month'] = df.Premiere.dt.month"
   ]
  },
  {
   "cell_type": "code",
   "execution_count": 75,
   "id": "5a04b05d",
   "metadata": {
    "ExecuteTime": {
     "end_time": "2021-09-08T09:19:46.149267Z",
     "start_time": "2021-09-08T09:19:46.143267Z"
    }
   },
   "outputs": [],
   "source": [
    "df['Year'] = df.Premiere.dt.year"
   ]
  },
  {
   "cell_type": "code",
   "execution_count": 93,
   "id": "185912fe",
   "metadata": {
    "ExecuteTime": {
     "end_time": "2021-09-08T09:43:13.573441Z",
     "start_time": "2021-09-08T09:43:13.548436Z"
    }
   },
   "outputs": [
    {
     "data": {
      "text/html": [
       "<div>\n",
       "<style scoped>\n",
       "    .dataframe tbody tr th:only-of-type {\n",
       "        vertical-align: middle;\n",
       "    }\n",
       "\n",
       "    .dataframe tbody tr th {\n",
       "        vertical-align: top;\n",
       "    }\n",
       "\n",
       "    .dataframe thead th {\n",
       "        text-align: right;\n",
       "    }\n",
       "</style>\n",
       "<table border=\"1\" class=\"dataframe\">\n",
       "  <thead>\n",
       "    <tr style=\"text-align: right;\">\n",
       "      <th></th>\n",
       "      <th>Title</th>\n",
       "      <th>Genre</th>\n",
       "      <th>Premiere</th>\n",
       "      <th>Runtime</th>\n",
       "      <th>IMDB Score</th>\n",
       "      <th>Language</th>\n",
       "      <th>Month</th>\n",
       "      <th>Year</th>\n",
       "      <th>Is_english</th>\n",
       "    </tr>\n",
       "  </thead>\n",
       "  <tbody>\n",
       "    <tr>\n",
       "      <th>0</th>\n",
       "      <td>Enter the Anime</td>\n",
       "      <td>Documentary</td>\n",
       "      <td>2019-08-05</td>\n",
       "      <td>58</td>\n",
       "      <td>2.5</td>\n",
       "      <td>English/Japanese</td>\n",
       "      <td>8</td>\n",
       "      <td>2019</td>\n",
       "      <td>1</td>\n",
       "    </tr>\n",
       "    <tr>\n",
       "      <th>1</th>\n",
       "      <td>Dark Forces</td>\n",
       "      <td>Thriller</td>\n",
       "      <td>2020-08-21</td>\n",
       "      <td>81</td>\n",
       "      <td>2.6</td>\n",
       "      <td>Spanish</td>\n",
       "      <td>8</td>\n",
       "      <td>2020</td>\n",
       "      <td>0</td>\n",
       "    </tr>\n",
       "    <tr>\n",
       "      <th>2</th>\n",
       "      <td>The App</td>\n",
       "      <td>Science fiction/Drama</td>\n",
       "      <td>2019-12-26</td>\n",
       "      <td>79</td>\n",
       "      <td>2.6</td>\n",
       "      <td>Italian</td>\n",
       "      <td>12</td>\n",
       "      <td>2019</td>\n",
       "      <td>0</td>\n",
       "    </tr>\n",
       "    <tr>\n",
       "      <th>3</th>\n",
       "      <td>The Open House</td>\n",
       "      <td>Horror thriller</td>\n",
       "      <td>2018-01-19</td>\n",
       "      <td>94</td>\n",
       "      <td>3.2</td>\n",
       "      <td>English</td>\n",
       "      <td>1</td>\n",
       "      <td>2018</td>\n",
       "      <td>1</td>\n",
       "    </tr>\n",
       "    <tr>\n",
       "      <th>4</th>\n",
       "      <td>Kaali Khuhi</td>\n",
       "      <td>Mystery</td>\n",
       "      <td>2020-10-30</td>\n",
       "      <td>90</td>\n",
       "      <td>3.4</td>\n",
       "      <td>Hindi</td>\n",
       "      <td>10</td>\n",
       "      <td>2020</td>\n",
       "      <td>0</td>\n",
       "    </tr>\n",
       "  </tbody>\n",
       "</table>\n",
       "</div>"
      ],
      "text/plain": [
       "             Title                  Genre   Premiere  Runtime  IMDB Score  \\\n",
       "0  Enter the Anime            Documentary 2019-08-05       58         2.5   \n",
       "1      Dark Forces               Thriller 2020-08-21       81         2.6   \n",
       "2          The App  Science fiction/Drama 2019-12-26       79         2.6   \n",
       "3   The Open House        Horror thriller 2018-01-19       94         3.2   \n",
       "4      Kaali Khuhi                Mystery 2020-10-30       90         3.4   \n",
       "\n",
       "           Language  Month  Year  Is_english  \n",
       "0  English/Japanese      8  2019           1  \n",
       "1           Spanish      8  2020           0  \n",
       "2           Italian     12  2019           0  \n",
       "3           English      1  2018           1  \n",
       "4             Hindi     10  2020           0  "
      ]
     },
     "execution_count": 93,
     "metadata": {},
     "output_type": "execute_result"
    }
   ],
   "source": [
    "df.head()"
   ]
  },
  {
   "cell_type": "markdown",
   "id": "8c928f47",
   "metadata": {},
   "source": [
    "## Data Visualizations"
   ]
  },
  {
   "cell_type": "markdown",
   "id": "3fdf90c9",
   "metadata": {},
   "source": [
    "### Correlation between features"
   ]
  },
  {
   "cell_type": "code",
   "execution_count": 80,
   "id": "a9938c4d",
   "metadata": {
    "ExecuteTime": {
     "end_time": "2021-09-08T09:21:07.385339Z",
     "start_time": "2021-09-08T09:21:06.484073Z"
    }
   },
   "outputs": [
    {
     "data": {
      "image/png": "[encoded data removed]",
      "text/plain": [
       "<Figure size 648x432 with 5 Axes>"
      ]
     },
     "metadata": {
      "needs_background": "light"
     },
     "output_type": "display_data"
    }
   ],
   "source": [
    "sns.pairplot(df[['Runtime', 'IMDB Score']], height=3, aspect=1.5, corner=True);"
   ]
  },
  {
   "cell_type": "markdown",
   "id": "01c1cf0c",
   "metadata": {},
   "source": [
    "There is not much correlation between Runtime and IMDB Score. However it is notable that Runtime around 100minutes are the most popular and the majority of the scores are between 5 and 8. There are very little films with high ratings 8 and above and low ratings 5 and below. "
   ]
  },
  {
   "cell_type": "code",
   "execution_count": 98,
   "id": "9c67593a",
   "metadata": {
    "ExecuteTime": {
     "end_time": "2021-09-08T09:45:20.074112Z",
     "start_time": "2021-09-08T09:45:19.837098Z"
    },
    "scrolled": false
   },
   "outputs": [
    {
     "data": {
      "image/png": "[encoded data removed]",
      "text/plain": [
       "<Figure size 432x432 with 1 Axes>"
      ]
     },
     "metadata": {
      "needs_background": "light"
     },
     "output_type": "display_data"
    }
   ],
   "source": [
    "plt.figure(figsize=(6,6))\n",
    "sns.boxplot(data=df, x='Is_english', y='IMDB Score');"
   ]
  },
  {
   "cell_type": "markdown",
   "id": "cc913e91",
   "metadata": {},
   "source": [
    "Seems like English language films have a slight advantage over films that are not in English. The higher average score is only about 0.3 difference. The lower and upper range of English language films are also better than non-English language films. "
   ]
  },
  {
   "cell_type": "code",
   "execution_count": 99,
   "id": "f49d0c80",
   "metadata": {
    "ExecuteTime": {
     "end_time": "2021-09-08T09:45:29.518633Z",
     "start_time": "2021-09-08T09:45:29.036784Z"
    }
   },
   "outputs": [
    {
     "data": {
      "image/png": "[encoded data removed]",
      "text/plain": [
       "<Figure size 576x576 with 1 Axes>"
      ]
     },
     "metadata": {
      "needs_background": "light"
     },
     "output_type": "display_data"
    }
   ],
   "source": [
    "plt.figure(figsize=(8,8))\n",
    "sns.boxplot(data=df, x='Month', y='IMDB Score');"
   ]
  },
  {
   "cell_type": "code",
   "execution_count": 100,
   "id": "ef33b8c9",
   "metadata": {
    "ExecuteTime": {
     "end_time": "2021-09-08T09:45:34.823649Z",
     "start_time": "2021-09-08T09:45:34.434598Z"
    },
    "scrolled": false
   },
   "outputs": [
    {
     "data": {
      "image/png": "[encoded data removed]",
      "text/plain": [
       "<Figure size 576x576 with 1 Axes>"
      ]
     },
     "metadata": {
      "needs_background": "light"
     },
     "output_type": "display_data"
    }
   ],
   "source": [
    "plt.figure(figsize=(8,8))\n",
    "sns.boxplot(data=df, x='Year', y='IMDB Score');"
   ]
  },
  {
   "cell_type": "markdown",
   "id": "e12d1960",
   "metadata": {},
   "source": [
    "The boxplot above shows that there is not much of a difference when the film is premiered. The months with the slightly higher median score are June, Sep and Oct. With June having the highest lower range of 5 and above.\n",
    "\n",
    "The year 2015 can be seen to have the highest median IMDB score of 7 and above. While the rest of the years hover between the range of 6 to 7."
   ]
  },
  {
   "cell_type": "markdown",
   "id": "391b51b5",
   "metadata": {},
   "source": [
    "### Average score of film Genres"
   ]
  },
  {
   "cell_type": "code",
   "execution_count": 34,
   "id": "6a33cc7c",
   "metadata": {
    "ExecuteTime": {
     "end_time": "2021-09-08T08:49:52.088591Z",
     "start_time": "2021-09-08T08:49:52.058588Z"
    }
   },
   "outputs": [],
   "source": [
    "df_genre_scores = df.groupby(by='Genre').agg(count=('Genre','size'), avg_runtime=('Runtime', 'mean'), avg_score=('IMDB Score', 'mean')).sort_values(by='avg_score', ascending=False)"
   ]
  },
  {
   "cell_type": "code",
   "execution_count": 49,
   "id": "852c6821",
   "metadata": {
    "ExecuteTime": {
     "end_time": "2021-09-08T08:57:57.050542Z",
     "start_time": "2021-09-08T08:57:57.030537Z"
    },
    "scrolled": true
   },
   "outputs": [
    {
     "data": {
      "text/html": [
       "<div>\n",
       "<style scoped>\n",
       "    .dataframe tbody tr th:only-of-type {\n",
       "        vertical-align: middle;\n",
       "    }\n",
       "\n",
       "    .dataframe tbody tr th {\n",
       "        vertical-align: top;\n",
       "    }\n",
       "\n",
       "    .dataframe thead th {\n",
       "        text-align: right;\n",
       "    }\n",
       "</style>\n",
       "<table border=\"1\" class=\"dataframe\">\n",
       "  <thead>\n",
       "    <tr style=\"text-align: right;\">\n",
       "      <th></th>\n",
       "      <th>count</th>\n",
       "      <th>avg_runtime</th>\n",
       "      <th>avg_score</th>\n",
       "    </tr>\n",
       "    <tr>\n",
       "      <th>Genre</th>\n",
       "      <th></th>\n",
       "      <th></th>\n",
       "      <th></th>\n",
       "    </tr>\n",
       "  </thead>\n",
       "  <tbody>\n",
       "    <tr>\n",
       "      <th>Concert Film</th>\n",
       "      <td>6</td>\n",
       "      <td>98.666667</td>\n",
       "      <td>7.633333</td>\n",
       "    </tr>\n",
       "    <tr>\n",
       "      <th>Making-of</th>\n",
       "      <td>2</td>\n",
       "      <td>42.500000</td>\n",
       "      <td>7.450000</td>\n",
       "    </tr>\n",
       "    <tr>\n",
       "      <th>One-man show</th>\n",
       "      <td>3</td>\n",
       "      <td>98.666667</td>\n",
       "      <td>7.133333</td>\n",
       "    </tr>\n",
       "    <tr>\n",
       "      <th>Animation / Short</th>\n",
       "      <td>4</td>\n",
       "      <td>10.750000</td>\n",
       "      <td>7.125000</td>\n",
       "    </tr>\n",
       "    <tr>\n",
       "      <th>War drama</th>\n",
       "      <td>2</td>\n",
       "      <td>145.500000</td>\n",
       "      <td>7.100000</td>\n",
       "    </tr>\n",
       "    <tr>\n",
       "      <th>Documentary</th>\n",
       "      <td>159</td>\n",
       "      <td>78.962264</td>\n",
       "      <td>6.936478</td>\n",
       "    </tr>\n",
       "    <tr>\n",
       "      <th>Aftershow / Interview</th>\n",
       "      <td>6</td>\n",
       "      <td>23.666667</td>\n",
       "      <td>6.750000</td>\n",
       "    </tr>\n",
       "    <tr>\n",
       "      <th>War</th>\n",
       "      <td>2</td>\n",
       "      <td>110.500000</td>\n",
       "      <td>6.750000</td>\n",
       "    </tr>\n",
       "    <tr>\n",
       "      <th>Crime drama</th>\n",
       "      <td>11</td>\n",
       "      <td>118.181818</td>\n",
       "      <td>6.745455</td>\n",
       "    </tr>\n",
       "    <tr>\n",
       "      <th>Spy thriller</th>\n",
       "      <td>2</td>\n",
       "      <td>122.000000</td>\n",
       "      <td>6.600000</td>\n",
       "    </tr>\n",
       "    <tr>\n",
       "      <th>Anime/Science fiction</th>\n",
       "      <td>2</td>\n",
       "      <td>90.000000</td>\n",
       "      <td>6.600000</td>\n",
       "    </tr>\n",
       "    <tr>\n",
       "      <th>Animation</th>\n",
       "      <td>5</td>\n",
       "      <td>57.200000</td>\n",
       "      <td>6.560000</td>\n",
       "    </tr>\n",
       "    <tr>\n",
       "      <th>Psychological thriller</th>\n",
       "      <td>4</td>\n",
       "      <td>124.000000</td>\n",
       "      <td>6.500000</td>\n",
       "    </tr>\n",
       "    <tr>\n",
       "      <th>Romance</th>\n",
       "      <td>6</td>\n",
       "      <td>101.166667</td>\n",
       "      <td>6.500000</td>\n",
       "    </tr>\n",
       "    <tr>\n",
       "      <th>Musical comedy</th>\n",
       "      <td>2</td>\n",
       "      <td>117.500000</td>\n",
       "      <td>6.450000</td>\n",
       "    </tr>\n",
       "    <tr>\n",
       "      <th>Biopic</th>\n",
       "      <td>9</td>\n",
       "      <td>107.555556</td>\n",
       "      <td>6.400000</td>\n",
       "    </tr>\n",
       "    <tr>\n",
       "      <th>Drama</th>\n",
       "      <td>77</td>\n",
       "      <td>107.311688</td>\n",
       "      <td>6.342857</td>\n",
       "    </tr>\n",
       "    <tr>\n",
       "      <th>Adventure</th>\n",
       "      <td>2</td>\n",
       "      <td>96.500000</td>\n",
       "      <td>6.300000</td>\n",
       "    </tr>\n",
       "    <tr>\n",
       "      <th>Comedy-drama</th>\n",
       "      <td>14</td>\n",
       "      <td>105.142857</td>\n",
       "      <td>6.214286</td>\n",
       "    </tr>\n",
       "    <tr>\n",
       "      <th>Comedy / Musical</th>\n",
       "      <td>2</td>\n",
       "      <td>43.000000</td>\n",
       "      <td>6.200000</td>\n",
       "    </tr>\n",
       "    <tr>\n",
       "      <th>Horror-thriller</th>\n",
       "      <td>2</td>\n",
       "      <td>109.500000</td>\n",
       "      <td>6.200000</td>\n",
       "    </tr>\n",
       "    <tr>\n",
       "      <th>Sports-drama</th>\n",
       "      <td>3</td>\n",
       "      <td>96.000000</td>\n",
       "      <td>6.166667</td>\n",
       "    </tr>\n",
       "    <tr>\n",
       "      <th>Action-thriller</th>\n",
       "      <td>3</td>\n",
       "      <td>119.666667</td>\n",
       "      <td>6.133333</td>\n",
       "    </tr>\n",
       "    <tr>\n",
       "      <th>Western</th>\n",
       "      <td>3</td>\n",
       "      <td>116.666667</td>\n",
       "      <td>6.066667</td>\n",
       "    </tr>\n",
       "    <tr>\n",
       "      <th>Science fiction/Thriller</th>\n",
       "      <td>4</td>\n",
       "      <td>92.500000</td>\n",
       "      <td>6.000000</td>\n",
       "    </tr>\n",
       "    <tr>\n",
       "      <th>Variety show</th>\n",
       "      <td>4</td>\n",
       "      <td>60.500000</td>\n",
       "      <td>5.950000</td>\n",
       "    </tr>\n",
       "    <tr>\n",
       "      <th>Family</th>\n",
       "      <td>2</td>\n",
       "      <td>112.500000</td>\n",
       "      <td>5.900000</td>\n",
       "    </tr>\n",
       "    <tr>\n",
       "      <th>Romantic drama</th>\n",
       "      <td>5</td>\n",
       "      <td>108.200000</td>\n",
       "      <td>5.900000</td>\n",
       "    </tr>\n",
       "    <tr>\n",
       "      <th>Mockumentary</th>\n",
       "      <td>2</td>\n",
       "      <td>63.500000</td>\n",
       "      <td>5.850000</td>\n",
       "    </tr>\n",
       "    <tr>\n",
       "      <th>Romantic comedy</th>\n",
       "      <td>39</td>\n",
       "      <td>100.692308</td>\n",
       "      <td>5.848718</td>\n",
       "    </tr>\n",
       "    <tr>\n",
       "      <th>Satire</th>\n",
       "      <td>2</td>\n",
       "      <td>97.000000</td>\n",
       "      <td>5.800000</td>\n",
       "    </tr>\n",
       "    <tr>\n",
       "      <th>Dark comedy</th>\n",
       "      <td>2</td>\n",
       "      <td>92.000000</td>\n",
       "      <td>5.750000</td>\n",
       "    </tr>\n",
       "    <tr>\n",
       "      <th>Science fiction</th>\n",
       "      <td>4</td>\n",
       "      <td>110.750000</td>\n",
       "      <td>5.725000</td>\n",
       "    </tr>\n",
       "    <tr>\n",
       "      <th>Musical</th>\n",
       "      <td>2</td>\n",
       "      <td>116.000000</td>\n",
       "      <td>5.700000</td>\n",
       "    </tr>\n",
       "    <tr>\n",
       "      <th>Family film</th>\n",
       "      <td>2</td>\n",
       "      <td>90.500000</td>\n",
       "      <td>5.600000</td>\n",
       "    </tr>\n",
       "    <tr>\n",
       "      <th>Thriller</th>\n",
       "      <td>33</td>\n",
       "      <td>105.121212</td>\n",
       "      <td>5.563636</td>\n",
       "    </tr>\n",
       "    <tr>\n",
       "      <th>Black comedy</th>\n",
       "      <td>2</td>\n",
       "      <td>91.500000</td>\n",
       "      <td>5.550000</td>\n",
       "    </tr>\n",
       "    <tr>\n",
       "      <th>Comedy</th>\n",
       "      <td>49</td>\n",
       "      <td>95.653061</td>\n",
       "      <td>5.506122</td>\n",
       "    </tr>\n",
       "    <tr>\n",
       "      <th>Action comedy</th>\n",
       "      <td>5</td>\n",
       "      <td>101.200000</td>\n",
       "      <td>5.420000</td>\n",
       "    </tr>\n",
       "    <tr>\n",
       "      <th>Action</th>\n",
       "      <td>7</td>\n",
       "      <td>108.000000</td>\n",
       "      <td>5.414286</td>\n",
       "    </tr>\n",
       "    <tr>\n",
       "      <th>Superhero</th>\n",
       "      <td>2</td>\n",
       "      <td>106.500000</td>\n",
       "      <td>5.350000</td>\n",
       "    </tr>\n",
       "    <tr>\n",
       "      <th>Horror</th>\n",
       "      <td>9</td>\n",
       "      <td>99.333333</td>\n",
       "      <td>5.255556</td>\n",
       "    </tr>\n",
       "    <tr>\n",
       "      <th>Horror thriller</th>\n",
       "      <td>3</td>\n",
       "      <td>99.000000</td>\n",
       "      <td>4.700000</td>\n",
       "    </tr>\n",
       "    <tr>\n",
       "      <th>Mystery</th>\n",
       "      <td>2</td>\n",
       "      <td>98.500000</td>\n",
       "      <td>4.650000</td>\n",
       "    </tr>\n",
       "    <tr>\n",
       "      <th>Science fiction/Drama</th>\n",
       "      <td>3</td>\n",
       "      <td>92.000000</td>\n",
       "      <td>4.533333</td>\n",
       "    </tr>\n",
       "  </tbody>\n",
       "</table>\n",
       "</div>"
      ],
      "text/plain": [
       "                          count  avg_runtime  avg_score\n",
       "Genre                                                  \n",
       "Concert Film                  6    98.666667   7.633333\n",
       "Making-of                     2    42.500000   7.450000\n",
       "One-man show                  3    98.666667   7.133333\n",
       "Animation / Short             4    10.750000   7.125000\n",
       "War drama                     2   145.500000   7.100000\n",
       "Documentary                 159    78.962264   6.936478\n",
       "Aftershow / Interview         6    23.666667   6.750000\n",
       "War                           2   110.500000   6.750000\n",
       "Crime drama                  11   118.181818   6.745455\n",
       "Spy thriller                  2   122.000000   6.600000\n",
       "Anime/Science fiction         2    90.000000   6.600000\n",
       "Animation                     5    57.200000   6.560000\n",
       "Psychological thriller        4   124.000000   6.500000\n",
       "Romance                       6   101.166667   6.500000\n",
       "Musical comedy                2   117.500000   6.450000\n",
       "Biopic                        9   107.555556   6.400000\n",
       "Drama                        77   107.311688   6.342857\n",
       "Adventure                     2    96.500000   6.300000\n",
       "Comedy-drama                 14   105.142857   6.214286\n",
       "Comedy / Musical              2    43.000000   6.200000\n",
       "Horror-thriller               2   109.500000   6.200000\n",
       "Sports-drama                  3    96.000000   6.166667\n",
       "Action-thriller               3   119.666667   6.133333\n",
       "Western                       3   116.666667   6.066667\n",
       "Science fiction/Thriller      4    92.500000   6.000000\n",
       "Variety show                  4    60.500000   5.950000\n",
       "Family                        2   112.500000   5.900000\n",
       "Romantic drama                5   108.200000   5.900000\n",
       "Mockumentary                  2    63.500000   5.850000\n",
       "Romantic comedy              39   100.692308   5.848718\n",
       "Satire                        2    97.000000   5.800000\n",
       "Dark comedy                   2    92.000000   5.750000\n",
       "Science fiction               4   110.750000   5.725000\n",
       "Musical                       2   116.000000   5.700000\n",
       "Family film                   2    90.500000   5.600000\n",
       "Thriller                     33   105.121212   5.563636\n",
       "Black comedy                  2    91.500000   5.550000\n",
       "Comedy                       49    95.653061   5.506122\n",
       "Action comedy                 5   101.200000   5.420000\n",
       "Action                        7   108.000000   5.414286\n",
       "Superhero                     2   106.500000   5.350000\n",
       "Horror                        9    99.333333   5.255556\n",
       "Horror thriller               3    99.000000   4.700000\n",
       "Mystery                       2    98.500000   4.650000\n",
       "Science fiction/Drama         3    92.000000   4.533333"
      ]
     },
     "execution_count": 49,
     "metadata": {},
     "output_type": "execute_result"
    }
   ],
   "source": [
    "df_genre_scores_mod = df_genre_scores.loc[df_genre_scores['count'] != 1]\n",
    "df_genre_scores_mod"
   ]
  },
  {
   "cell_type": "code",
   "execution_count": 61,
   "id": "70f4a81a",
   "metadata": {
    "ExecuteTime": {
     "end_time": "2021-09-08T09:05:59.917724Z",
     "start_time": "2021-09-08T09:05:58.639149Z"
    },
    "scrolled": false
   },
   "outputs": [
    {
     "data": {
      "image/png": "[encoded data removed]",
      "text/plain": [
       "<Figure size 1080x864 with 1 Axes>"
      ]
     },
     "metadata": {
      "needs_background": "light"
     },
     "output_type": "display_data"
    }
   ],
   "source": [
    "plt.figure(figsize=(15,12))\n",
    "sns.barplot(data=df_genre_scores_mod, y=df_genre_scores_mod.index, x='avg_score')\n",
    "plt.title(\"Average score of film Genres\");"
   ]
  },
  {
   "cell_type": "markdown",
   "id": "f8b9e178",
   "metadata": {},
   "source": [
    "Here we have the average score of the different Genres of film. I removed Genres with 1 count so as to eliminate successful one-off films. \n",
    "\n",
    "Top 5 highest scoring Genres are Concert Film, Making-of, One-man show, Animation / Short and War drama.\n",
    "\n",
    "Bottom 5 are Superhero, Horror, Horror thriller, Mystery, Science fiction/Drama."
   ]
  },
  {
   "cell_type": "markdown",
   "id": "9f8779fa",
   "metadata": {},
   "source": [
    "## Conclusion"
   ]
  },
  {
   "cell_type": "markdown",
   "id": "9860c174",
   "metadata": {},
   "source": [
    "In conclusion, some of the ways to get a higher IMDB score is to include English language into the film, premier the film in June and create a film with a genre in the top 5 (Concert Film, Making-of, One-man show, Animation / Short and War drama).\n",
    "\n",
    "Although there might not be significant ways to improve the IMDB score, films created this way is more likely to achieve a higher average score. \n",
    "\n",
    "Further improvements:\n",
    "- Include more features such as Film budget, Film viewership and cast. \n",
    "- Create Tableau dashboard to check out scores of film in different genres, year, month etc."
   ]
  },
  {
   "cell_type": "code",
   "execution_count": 112,
   "id": "a4edab01",
   "metadata": {
    "ExecuteTime": {
     "end_time": "2021-09-08T10:37:19.092583Z",
     "start_time": "2021-09-08T10:37:19.062581Z"
    }
   },
   "outputs": [],
   "source": [
    "df.to_csv(\"Netflix Original Films & IMDB Scores/NetflixOriginals_mod.csv\")"
   ]
  }
 ],
 "metadata": {
  "kernelspec": {
   "display_name": "Python 3",
   "language": "python",
   "name": "python3"
  },
  "language_info": {
   "codemirror_mode": {
    "name": "ipython",
    "version": 3
   },
   "file_extension": ".py",
   "mimetype": "text/x-python",
   "name": "python",
   "nbconvert_exporter": "python",
   "pygments_lexer": "ipython3",
   "version": "3.8.8"
  },
  "toc": {
   "base_numbering": 1,
   "nav_menu": {},
   "number_sections": true,
   "sideBar": true,
   "skip_h1_title": false,
   "title_cell": "Table of Contents",
   "title_sidebar": "Contents",
   "toc_cell": false,
   "toc_position": {
    "height": "calc(100% - 180px)",
    "left": "10px",
    "top": "150px",
    "width": "512px"
   },
   "toc_section_display": true,
   "toc_window_display": true
  },
  "varInspector": {
   "cols": {
    "lenName": 16,
    "lenType": 16,
    "lenVar": 40
   },
   "kernels_config": {
    "python": {
     "delete_cmd_postfix": "",
     "delete_cmd_prefix": "del ",
     "library": "var_list.py",
     "varRefreshCmd": "print(var_dic_list())"
    },
    "r": {
     "delete_cmd_postfix": ") ",
     "delete_cmd_prefix": "rm(",
     "library": "var_list.r",
     "varRefreshCmd": "cat(var_dic_list()) "
    }
   },
   "types_to_exclude": [
    "module",
    "function",
    "builtin_function_or_method",
    "instance",
    "_Feature"
   ],
   "window_display": false
  }
 },
 "nbformat": 4,
 "nbformat_minor": 5
}
